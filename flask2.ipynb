{
 "cells": [
  {
   "cell_type": "markdown",
   "id": "5c5d13d8-10f8-4a2b-a7fd-6c53662a2608",
   "metadata": {},
   "source": [
    "1 Explain GET and POST methods.\n",
    "While the HTTP POST method is used to send data to a server to create or update a resource, the HTTP GET method is used to request data from a specified resource and should have no other effect. HTTP POST request provides additional data from the client to the server message body."
   ]
  },
  {
   "cell_type": "markdown",
   "id": "df88586f-8228-42b5-b37d-c88b334243e6",
   "metadata": {},
   "source": [
    "2 Why is request used in Flask?\n",
    "The Request, in Flask, is an object that contains all the data sent from the Client to Server. This data can be recovered using the GET/POST Methods."
   ]
  },
  {
   "cell_type": "markdown",
   "id": "1471b793-60a1-49b6-89ac-6611a3476a6c",
   "metadata": {},
   "source": [
    "3 Why is redirect() used in Flask?\n",
    "Flask class has a redirect() function. When called, it returns a response object and redirects the user to another target location with specified status code. location parameter is the URL where response should be redirected."
   ]
  },
  {
   "cell_type": "markdown",
   "id": "d21591b4-31d4-4a43-8d74-6bdafff6fdf3",
   "metadata": {},
   "source": [
    "4 What are templates in Flask? Why is the render_template() function used?\n",
    "Templates are files that contain static data as well as placeholders for dynamic data. A template is rendered with specific data to produce a final document. Flask uses the Jinja template library to render templates. In your application, you will use templates to render HTML which will display in the user's browser.render_template is a Flask function from the flask. templating package. render_template is used to generate output from a template file based on the Jinja2 engine that is found in the application's templates folder. Note that render_template is typically imported directly from the flask package instead of from flask."
   ]
  },
  {
   "cell_type": "markdown",
   "id": "964a6188-1403-4c11-9851-58e085f03fb8",
   "metadata": {},
   "source": [
    "5 "
   ]
  }
 ],
 "metadata": {
  "kernelspec": {
   "display_name": "Python 3 (ipykernel)",
   "language": "python",
   "name": "python3"
  },
  "language_info": {
   "codemirror_mode": {
    "name": "ipython",
    "version": 3
   },
   "file_extension": ".py",
   "mimetype": "text/x-python",
   "name": "python",
   "nbconvert_exporter": "python",
   "pygments_lexer": "ipython3",
   "version": "3.10.8"
  }
 },
 "nbformat": 4,
 "nbformat_minor": 5
}
